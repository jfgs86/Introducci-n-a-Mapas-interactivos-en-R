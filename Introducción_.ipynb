{
  "nbformat": 4,
  "nbformat_minor": 0,
  "metadata": {
    "colab": {
      "name": "Introducción .ipynb",
      "provenance": [],
      "collapsed_sections": [],
      "authorship_tag": "ABX9TyMsdCTvMtI490pVL+liJFK7",
      "include_colab_link": true
    },
    "kernelspec": {
      "name": "python3",
      "display_name": "Python 3"
    }
  },
  "cells": [
    {
      "cell_type": "markdown",
      "metadata": {
        "id": "view-in-github",
        "colab_type": "text"
      },
      "source": [
        "<a href=\"https://colab.research.google.com/github/jfgs86/Introducci-n-a-Mapas-interactivos-en-R/blob/master/Introducci%C3%B3n_.ipynb\" target=\"_parent\"><img src=\"https://colab.research.google.com/assets/colab-badge.svg\" alt=\"Open In Colab\"/></a>"
      ]
    },
    {
      "cell_type": "markdown",
      "metadata": {
        "id": "aY3_DJV7t_QM",
        "colab_type": "text"
      },
      "source": [
        "# **TALLER DE PANDAS PYTHON**\n",
        "## Imparte Lic. Juan Francisco Gracia Sercado. Estudiante de la Maestría de Ciencias de la Complejidad. UACM\n",
        "<img src=https://aprendeconalf.es/python/manual/img/pandas-logo.png width=\"800\">\n",
        "\n",
        "#Introducción \n",
        "\n",
        "\n",
        "# **Temas**\n",
        "\n",
        "## 1.- ¿Qué es Pandas?\n",
        "## 2.- Tipo de datos que se pueden manejar con Pandas \n",
        "## 3.- ¿Qué es un Data Frame?\n"
      ]
    },
    {
      "cell_type": "markdown",
      "metadata": {
        "id": "q3kw5tE2t6A1",
        "colab_type": "text"
      },
      "source": [
        "# 1.- ¿Qué es Pandas?\n",
        "\n"
      ]
    },
    {
      "cell_type": "code",
      "metadata": {
        "id": "CFiNA7Gi6E2w",
        "colab_type": "code",
        "colab": {}
      },
      "source": [
        "import pandas as pd "
      ],
      "execution_count": null,
      "outputs": []
    },
    {
      "cell_type": "markdown",
      "metadata": {
        "id": "Wlv0GInR6i87",
        "colab_type": "text"
      },
      "source": [
        "# 2.- Tipo de datos que se pueden manejar con Pandas\n",
        "\n",
        "Antes de adentrarnos con los métodos debemos tener claro sobre la variedad de tipos de datos que podemos encontrar. Los que comúnmente se manejan con Pandas son:\n",
        "\n",
        "|          | Tipo de Dato                                                |\n",
        "|--------- |-------------------------------------------------------------|\n",
        "| int      | Datos de tipo numérico (enteros).                           |\n",
        "| float    | Datos de tipo numérico (decimales).                         |\n",
        "| object   | Funciona de forma similar a la cadena de datos en Python.   |\n",
        "| datatime | Datos co formado de fecha y/o hora.                         |     \n",
        "\n"
      ]
    },
    {
      "cell_type": "markdown",
      "metadata": {
        "id": "AcCaJHaeI4Ob",
        "colab_type": "text"
      },
      "source": [
        "# 3. ¿Qué es un Data Frame?\n",
        "\n",
        "Un Data Frame es una estructura de datos bidimensional, es decir, los datos se alinean de forma tabular en filas y columnas.\n",
        "\n",
        "<image src = https://www.w3resource.com/w3r_images/pandas-data-structure.svg >\n",
        "\n",
        "\n",
        "\n",
        "\n"
      ]
    },
    {
      "cell_type": "code",
      "metadata": {
        "id": "M1ghlW4dNuHM",
        "colab_type": "code",
        "colab": {
          "base_uri": "https://localhost:8080/",
          "height": 215
        },
        "outputId": "8247d2e9-e275-4485-e413-359c5bfbb080"
      },
      "source": [
        "df = {'Alcaldía':['España', 'Italia', 'Bélgica', 'Francia', 'Reino Unido', 'Países Bajos'],\n",
        "        'Muertos por COVID 19 /1 M de Hab.':[380, 338, 337, 229, 167, 165]}\n",
        "#print(df)\n",
        "\n",
        "## CREAMOS EL DATA FRAME\n",
        "df = pd.DataFrame(df)\n",
        "print(df, \"\\n\\n\", df.dtypes)"
      ],
      "execution_count": null,
      "outputs": [
        {
          "output_type": "stream",
          "text": [
            "       Alcaldía  Muertos por COVID 19 /1 M de Hab.\n",
            "0        España                                380\n",
            "1        Italia                                338\n",
            "2       Bélgica                                337\n",
            "3       Francia                                229\n",
            "4   Reino Unido                                167\n",
            "5  Países Bajos                                165 \n",
            "\n",
            " Alcaldía                             object\n",
            "Muertos por COVID 19 /1 M de Hab.     int64\n",
            "dtype: object\n"
          ],
          "name": "stdout"
        }
      ]
    },
    {
      "cell_type": "markdown",
      "metadata": {
        "id": "jTzKpX6gRk1B",
        "colab_type": "text"
      },
      "source": [
        "## 3.1 Importar Archivos de Datos.\n",
        "\n",
        "### 3.1.1 Archivos .csv\n",
        "Para leer un archivo CSV, puedes usar el método **read_csv()** de pandas.\n",
        "\n",
        "### 3.3.2 Archivo .xlsx\n",
        "Para leer un archivo XLSX, puedes usar el método **read_excel()** de pandas.\n",
        "\n",
        "## 3.3.3. Archivo .txt\n",
        "Para leer un archivo TXT, puedes usar el método **read_csv()** de pandas.\n",
        "\n",
        "## 3.3.3. Archivo .json \n",
        "Para leer un archivo JSON, puedes usar el método **read_json()** de pandas.\n",
        "\n",
        "\n"
      ]
    },
    {
      "cell_type": "code",
      "metadata": {
        "id": "sHQSjpmDuNgr",
        "colab_type": "code",
        "colab": {}
      },
      "source": [
        ""
      ],
      "execution_count": null,
      "outputs": []
    }
  ]
}